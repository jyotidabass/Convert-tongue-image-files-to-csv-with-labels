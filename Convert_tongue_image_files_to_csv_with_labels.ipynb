{
  "nbformat": 4,
  "nbformat_minor": 0,
  "metadata": {
    "colab": {
      "name": "Convert tongue image files to csv with labels.ipynb",
      "provenance": [],
      "mount_file_id": "1xSyXbIleli9Thh1gdpoWKEyXrM4-sG4x",
      "authorship_tag": "ABX9TyMR5jyS3E/6UgUuNNJ5LJCt",
      "include_colab_link": true
    },
    "kernelspec": {
      "name": "python3",
      "display_name": "Python 3"
    },
    "language_info": {
      "name": "python"
    }
  },
  "cells": [
    {
      "cell_type": "markdown",
      "metadata": {
        "id": "view-in-github",
        "colab_type": "text"
      },
      "source": [
        "<a href=\"https://colab.research.google.com/github/jyotidabass/Convert-tongue-image-files-to-csv-with-labels/blob/main/Convert_tongue_image_files_to_csv_with_labels.ipynb\" target=\"_parent\"><img src=\"https://colab.research.google.com/assets/colab-badge.svg\" alt=\"Open In Colab\"/></a>"
      ]
    },
    {
      "cell_type": "code",
      "execution_count": 5,
      "metadata": {
        "id": "vnwS2H5Dmlss"
      },
      "outputs": [],
      "source": [
        "import os\n",
        "import csv\n",
        "\n",
        "path = '/content/drive/MyDrive/The Omni Life - Tongue Images (1)/Train'\n",
        "\n",
        "# Loop through path and add all files matching *.jpg to array files\n",
        "with open('output.csv', 'w', newline='') as csvfile:\n",
        "    files = []\n",
        "    for r, d, f in os.walk(path):\n",
        "        for _file in f:\n",
        "            if '.jpg' in _file:\n",
        "                files.append(_file)\n",
        "\n",
        "    header = [\"image_id\", \"label\"]\n",
        "    # Create a writer from csv module\n",
        "    writer = csv.writer(csvfile, delimiter=',')\n",
        "    writer.writerow(i for i in header)\n",
        "\n",
        "    for f in files:  # find type of file\n",
        "        # cut off the number and .jpg from file, leaving only the type (this may have to be changed.)\n",
        "        t = f[0:-2]\n",
        "\n",
        "        if \"Kapha\" in t:\n",
        "            t = 0\n",
        "        elif \"Pitta\" in t:\n",
        "            t = 1\n",
        "        elif \"Vata\" in t:\n",
        "            t = 2\n",
        "    \n",
        "\n",
        "        writer.writerow([f, t])  # write the row to the file output.csv"
      ]
    }
  ]
}